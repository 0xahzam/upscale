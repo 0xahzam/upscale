{
  "nbformat": 4,
  "nbformat_minor": 0,
  "metadata": {
    "colab": {
      "provenance": []
    },
    "kernelspec": {
      "name": "python3",
      "display_name": "Python 3"
    },
    "language_info": {
      "name": "python"
    }
  },
  "cells": [
    {
      "cell_type": "markdown",
      "source": [
        "### Installing dependencies + setting up upscale function for magic"
      ],
      "metadata": {
        "id": "0fjMH65zzuDa"
      }
    },
    {
      "cell_type": "code",
      "execution_count": null,
      "metadata": {
        "id": "1C735S1esTEH"
      },
      "outputs": [],
      "source": [
        "!pip install basicsr gfpgan realesrgan\n",
        "\n",
        "!wget https://github.com/xinntao/Real-ESRGAN/releases/download/v0.2.5.0/realesr-general-x4v3.pth -P .\n",
        "!wget https://github.com/TencentARC/GFPGAN/releases/download/v1.3.0/GFPGANv1.2.pth -P .\n",
        "\n",
        "import os\n",
        "\n",
        "import cv2\n",
        "import torch\n",
        "from basicsr.archs.srvgg_arch import SRVGGNetCompact\n",
        "from gfpgan.utils import GFPGANer\n",
        "from realesrgan.utils import RealESRGANer\n",
        "\n",
        "# background enhancer with RealESRGAN\n",
        "model = SRVGGNetCompact(num_in_ch=3, num_out_ch=3, num_feat=64, num_conv=32, upscale=4, act_type='prelu')\n",
        "model_path = 'realesr-general-x4v3.pth'\n",
        "half = True if torch.cuda.is_available() else False\n",
        "upsampler = RealESRGANer(scale=4, model_path=model_path, model=model, tile=0, tile_pad=10, pre_pad=0, half=half)\n",
        "\n",
        "def upscale(img):\n",
        "    if len(img.shape) == 2:  # for gray inputs\n",
        "        img = cv2.cvtColor(img, cv2.COLOR_GRAY2BGR)\n",
        "\n",
        "    h, w = img.shape[0:2]\n",
        "    if h < 300:\n",
        "        img = cv2.resize(img, (w * 2, h * 2), interpolation=cv2.INTER_LANCZOS4)\n",
        "\n",
        "    face_enhancer = GFPGANer(model_path='GFPGANv1.2.pth', upscale=2, arch='clean', channel_multiplier=2, bg_upsampler=upsampler)\n",
        "    _, _, output = face_enhancer.enhance(img, has_aligned=False, only_center_face=False, paste_back=True)\n",
        "    output = cv2.cvtColor(output, cv2.COLOR_BGR2RGB)\n",
        "    return output"
      ]
    },
    {
      "cell_type": "markdown",
      "source": [
        "### run the below cell, upload the image and provide path"
      ],
      "metadata": {
        "id": "NH5pEJ7y0CHF"
      }
    },
    {
      "cell_type": "code",
      "source": [
        "import cv2\n",
        "from PIL import Image\n",
        "import numpy as np\n",
        "from google.colab import files\n",
        "\n",
        "image_path = str(input(\"path :\\n\"))\n",
        "new_name = \"enhanced_\"+image_path\n",
        "img = cv2.imread(image_path)\n",
        "enhanced_img = upscale(img)\n",
        "pil_img = Image.fromarray(enhanced_img)\n",
        "pil_img.save(new_name)  # save the enhanced image as a new file\n",
        "files.download(new_name)  # download the new file to your local machine"
      ],
      "metadata": {
        "id": "kEpwQF0SszGy"
      },
      "execution_count": null,
      "outputs": []
    }
  ]
}